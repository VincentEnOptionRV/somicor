{
 "cells": [
  {
   "cell_type": "code",
   "execution_count": 1,
   "id": "e6c3edd8",
   "metadata": {},
   "outputs": [],
   "source": [
    "import sonification as snf"
   ]
  },
  {
   "cell_type": "code",
   "execution_count": 2,
   "id": "6c36b106",
   "metadata": {},
   "outputs": [],
   "source": [
    "liste_pics = [144,135,212,440,843,555]"
   ]
  },
  {
   "cell_type": "code",
   "execution_count": 3,
   "id": "3db763d9",
   "metadata": {},
   "outputs": [
    {
     "name": "stdout",
     "output_type": "stream",
     "text": [
      "tinyNotation: 4/4 c4 d4 a4 a'4 c''4 a''4\n"
     ]
    }
   ],
   "source": [
    "tn = snf.freq_list_to_tinyNotation(liste_pics)\n",
    "print(tn)"
   ]
  },
  {
   "cell_type": "code",
   "execution_count": 4,
   "id": "fffd4095",
   "metadata": {},
   "outputs": [],
   "source": [
    "sound = snf.mus.converter.parse(tn)"
   ]
  },
  {
   "cell_type": "code",
   "execution_count": 5,
   "id": "d4b44be3",
   "metadata": {},
   "outputs": [
    {
     "data": {
      "image/png": "[encoded data removed]",
      "text/plain": [
       "<IPython.core.display.Image object>"
      ]
     },
     "metadata": {
      "image/png": {
       "height": 73,
       "width": 361
      }
     },
     "output_type": "display_data"
    }
   ],
   "source": [
    "sound.show()"
   ]
  },
  {
   "cell_type": "code",
   "execution_count": 7,
   "id": "f3ea0e48",
   "metadata": {},
   "outputs": [
    {
     "data": {
      "text/html": [
       "\n",
       "                <div id=\"midiPlayerDiv303\"></div>\n",
       "                <link rel=\"stylesheet\" href=\"//cuthbertLab.github.io/music21j/css/m21.css\"\n",
       "                    type=\"text/css\" />\n",
       "                \n",
       "                <script>\n",
       "                require.config({\n",
       "                    paths: {'music21': '//cuthbertLab.github.io/music21j/src/music21'}\n",
       "                });\n",
       "                require(['music21'], function() {\n",
       "                               mp = new music21.miditools.MidiPlayer();\n",
       "                               mp.addPlayer(\"#midiPlayerDiv303\");\n",
       "                               mp.base64Load(\"data:audio/midi;base64,TVRoZAAAAAYAAQACBABNVHJrAAAAFAD/UQMHoSAA/1gEBAIYCIgA/y8ATVRyawAAAEQA/wMAAOAAQIgAkDxaiACAPAAAkD5aiACAPgAAkEVaiACARQAAkFFaiACAUQAAkFRaiACAVAAAkF1aiACAXQCIAP8vAA==\");\n",
       "                        });\n",
       "                </script>"
      ],
      "text/plain": [
       "<IPython.core.display.HTML object>"
      ]
     },
     "metadata": {},
     "output_type": "display_data"
    }
   ],
   "source": [
    "sound.show('midi')"
   ]
  }
 ],
 "metadata": {
  "kernelspec": {
   "display_name": "Python [conda env:ECN] *",
   "language": "python",
   "name": "conda-env-ECN-py"
  },
  "language_info": {
   "codemirror_mode": {
    "name": "ipython",
    "version": 3
   },
   "file_extension": ".py",
   "mimetype": "text/x-python",
   "name": "python",
   "nbconvert_exporter": "python",
   "pygments_lexer": "ipython3",
   "version": "3.10.6"
  }
 },
 "nbformat": 4,
 "nbformat_minor": 5
}
